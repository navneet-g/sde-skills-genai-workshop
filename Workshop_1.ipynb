{
  "nbformat": 4,
  "nbformat_minor": 0,
  "metadata": {
    "colab": {
      "provenance": [],
      "authorship_tag": "ABX9TyMEbP3UtHjbiKWfw5pZP5L2",
      "include_colab_link": true
    },
    "kernelspec": {
      "name": "python3",
      "display_name": "Python 3"
    },
    "language_info": {
      "name": "python"
    }
  },
  "cells": [
    {
      "cell_type": "markdown",
      "metadata": {
        "id": "view-in-github",
        "colab_type": "text"
      },
      "source": [
        "<a href=\"https://colab.research.google.com/github/navneet-g/sde-skills-genai-workshop/blob/main/Workshop_1.ipynb\" target=\"_parent\"><img src=\"https://colab.research.google.com/assets/colab-badge.svg\" alt=\"Open In Colab\"/></a>"
      ]
    },
    {
      "cell_type": "markdown",
      "source": [
        "# Pre-reqs\n",
        "\n",
        "1. Bring a laptop or pair with someone to participate in hands-on lab\n",
        "2. Signup for free google Colab at https://colab.research.google.com/\n",
        "3. Get an api key at https://platform.openai.com/api-keys\n",
        "4. We will follow the Notebook at https://github.com/navneet-g/sde-skills-genai-workshop/blob/main/Workshop_1.ipynb\n",
        "\n",
        "\n"
      ],
      "metadata": {
        "id": "LnyqVd72Ole9"
      }
    },
    {
      "cell_type": "markdown",
      "source": [
        "# Guess the word\n",
        "\n",
        "\n",
        "### Example 1\n",
        "* He loved to study and when he grew up he became a <?>\n",
        "\n",
        "### Example 2\n",
        "* He wore a white coat and stethoscope to work everyday. He loved to study and when he grew up he became a <?>.\n",
        "\n",
        "\n",
        "\n",
        "\n",
        "That is how transformers work, they guess the word based on the context."
      ],
      "metadata": {
        "id": "FquK9rpp2iup"
      }
    },
    {
      "cell_type": "markdown",
      "source": [
        "* Large langugage models are trained on lots of data and can help and"
      ],
      "metadata": {
        "id": "l3PJLXmTJ4T-"
      }
    },
    {
      "cell_type": "code",
      "source": [
        "!pip install --q -U langchain langchain_community \\\n",
        "openai langchain-openai selenium unstructured \\\n",
        "langchain-text-splitters unstructured faiss-cpu"
      ],
      "metadata": {
        "colab": {
          "base_uri": "https://localhost:8080/"
        },
        "id": "uoq1IKpG3BAv",
        "outputId": "9fe219f7-c88d-43e6-8ec0-8773aee9e7b1"
      },
      "execution_count": 1,
      "outputs": [
        {
          "output_type": "stream",
          "name": "stdout",
          "text": [
            "\u001b[2K     \u001b[90m━━━━━━━━━━━━━━━━━━━━━━━━━━━━━━━━━━━━━━━━\u001b[0m \u001b[32m817.7/817.7 kB\u001b[0m \u001b[31m4.8 MB/s\u001b[0m eta \u001b[36m0:00:00\u001b[0m\n",
            "\u001b[2K     \u001b[90m━━━━━━━━━━━━━━━━━━━━━━━━━━━━━━━━━━━━━━━━\u001b[0m \u001b[32m1.9/1.9 MB\u001b[0m \u001b[31m29.1 MB/s\u001b[0m eta \u001b[36m0:00:00\u001b[0m\n",
            "\u001b[2K     \u001b[90m━━━━━━━━━━━━━━━━━━━━━━━━━━━━━━━━━━━━━━━━\u001b[0m \u001b[32m311.2/311.2 kB\u001b[0m \u001b[31m20.3 MB/s\u001b[0m eta \u001b[36m0:00:00\u001b[0m\n",
            "\u001b[2K     \u001b[90m━━━━━━━━━━━━━━━━━━━━━━━━━━━━━━━━━━━━━━━━\u001b[0m \u001b[32m10.5/10.5 MB\u001b[0m \u001b[31m39.0 MB/s\u001b[0m eta \u001b[36m0:00:00\u001b[0m\n",
            "\u001b[2K     \u001b[90m━━━━━━━━━━━━━━━━━━━━━━━━━━━━━━━━━━━━━━━━\u001b[0m \u001b[32m1.9/1.9 MB\u001b[0m \u001b[31m27.1 MB/s\u001b[0m eta \u001b[36m0:00:00\u001b[0m\n",
            "\u001b[2K     \u001b[90m━━━━━━━━━━━━━━━━━━━━━━━━━━━━━━━━━━━━━━━━\u001b[0m \u001b[32m27.0/27.0 MB\u001b[0m \u001b[31m16.2 MB/s\u001b[0m eta \u001b[36m0:00:00\u001b[0m\n",
            "\u001b[2K     \u001b[90m━━━━━━━━━━━━━━━━━━━━━━━━━━━━━━━━━━━━━━━━\u001b[0m \u001b[32m291.3/291.3 kB\u001b[0m \u001b[31m14.0 MB/s\u001b[0m eta \u001b[36m0:00:00\u001b[0m\n",
            "\u001b[2K     \u001b[90m━━━━━━━━━━━━━━━━━━━━━━━━━━━━━━━━━━━━━━━━\u001b[0m \u001b[32m115.2/115.2 kB\u001b[0m \u001b[31m2.4 MB/s\u001b[0m eta \u001b[36m0:00:00\u001b[0m\n",
            "\u001b[2K     \u001b[90m━━━━━━━━━━━━━━━━━━━━━━━━━━━━━━━━━━━━━━━━\u001b[0m \u001b[32m75.6/75.6 kB\u001b[0m \u001b[31m4.3 MB/s\u001b[0m eta \u001b[36m0:00:00\u001b[0m\n",
            "\u001b[2K     \u001b[90m━━━━━━━━━━━━━━━━━━━━━━━━━━━━━━━━━━━━━━━━\u001b[0m \u001b[32m1.8/1.8 MB\u001b[0m \u001b[31m59.2 MB/s\u001b[0m eta \u001b[36m0:00:00\u001b[0m\n",
            "\u001b[2K     \u001b[90m━━━━━━━━━━━━━━━━━━━━━━━━━━━━━━━━━━━━━━━━\u001b[0m \u001b[32m467.2/467.2 kB\u001b[0m \u001b[31m26.7 MB/s\u001b[0m eta \u001b[36m0:00:00\u001b[0m\n",
            "\u001b[2K     \u001b[90m━━━━━━━━━━━━━━━━━━━━━━━━━━━━━━━━━━━━━━━━\u001b[0m \u001b[32m433.8/433.8 kB\u001b[0m \u001b[31m28.6 MB/s\u001b[0m eta \u001b[36m0:00:00\u001b[0m\n",
            "\u001b[2K     \u001b[90m━━━━━━━━━━━━━━━━━━━━━━━━━━━━━━━━━━━━━━━━\u001b[0m \u001b[32m274.7/274.7 kB\u001b[0m \u001b[31m24.3 MB/s\u001b[0m eta \u001b[36m0:00:00\u001b[0m\n",
            "\u001b[2K     \u001b[90m━━━━━━━━━━━━━━━━━━━━━━━━━━━━━━━━━━━━━━━━\u001b[0m \u001b[32m981.5/981.5 kB\u001b[0m \u001b[31m49.5 MB/s\u001b[0m eta \u001b[36m0:00:00\u001b[0m\n",
            "\u001b[?25h  Preparing metadata (setup.py) ... \u001b[?25l\u001b[?25hdone\n",
            "\u001b[2K     \u001b[90m━━━━━━━━━━━━━━━━━━━━━━━━━━━━━━━━━━━━━━━━\u001b[0m \u001b[32m3.4/3.4 MB\u001b[0m \u001b[31m28.9 MB/s\u001b[0m eta \u001b[36m0:00:00\u001b[0m\n",
            "\u001b[2K     \u001b[90m━━━━━━━━━━━━━━━━━━━━━━━━━━━━━━━━━━━━━━━━\u001b[0m \u001b[32m49.4/49.4 kB\u001b[0m \u001b[31m3.6 MB/s\u001b[0m eta \u001b[36m0:00:00\u001b[0m\n",
            "\u001b[2K     \u001b[90m━━━━━━━━━━━━━━━━━━━━━━━━━━━━━━━━━━━━━━━━\u001b[0m \u001b[32m77.9/77.9 kB\u001b[0m \u001b[31m6.7 MB/s\u001b[0m eta \u001b[36m0:00:00\u001b[0m\n",
            "\u001b[2K     \u001b[90m━━━━━━━━━━━━━━━━━━━━━━━━━━━━━━━━━━━━━━━━\u001b[0m \u001b[32m58.3/58.3 kB\u001b[0m \u001b[31m5.7 MB/s\u001b[0m eta \u001b[36m0:00:00\u001b[0m\n",
            "\u001b[2K     \u001b[90m━━━━━━━━━━━━━━━━━━━━━━━━━━━━━━━━━━━━━━━━\u001b[0m \u001b[32m53.0/53.0 kB\u001b[0m \u001b[31m3.9 MB/s\u001b[0m eta \u001b[36m0:00:00\u001b[0m\n",
            "\u001b[2K     \u001b[90m━━━━━━━━━━━━━━━━━━━━━━━━━━━━━━━━━━━━━━━━\u001b[0m \u001b[32m141.1/141.1 kB\u001b[0m \u001b[31m7.4 MB/s\u001b[0m eta \u001b[36m0:00:00\u001b[0m\n",
            "\u001b[?25h  Building wheel for langdetect (setup.py) ... \u001b[?25l\u001b[?25hdone\n"
          ]
        }
      ]
    },
    {
      "cell_type": "code",
      "source": [
        "from langchain_community.document_loaders import SeleniumURLLoader  # loading documents\n",
        "from langchain.text_splitter import CharacterTextSplitter  # splitting text\n",
        "from langchain_community.vectorstores import (\n",
        "    FAISS,\n",
        ")  # creating vector store from embeddings; can use chromadb instead as well\n",
        "from langchain.chains import RetrievalQA  # creating qa system\n",
        "from google.colab import userdata\n",
        "\n",
        "from langchain_openai import ChatOpenAI  # using llm for qa system\n",
        "from langchain_openai import OpenAIEmbeddings  # embedding text with openai\n",
        "import openai"
      ],
      "metadata": {
        "id": "SEqZ0VNsANo7"
      },
      "execution_count": 2,
      "outputs": []
    },
    {
      "cell_type": "code",
      "source": [
        "openai_api_key=userdata.get('OPENAI_API_KEY')\n",
        "\n",
        "# docs https://python.langchain.com/docs/integrations/llms/google_ai/\n",
        "llm = ChatOpenAI(temperature=0, model_name=\"gpt-3.5-turbo\", openai_api_key=openai_api_key)"
      ],
      "metadata": {
        "id": "6QzKvO9LAaqT"
      },
      "execution_count": 3,
      "outputs": []
    },
    {
      "cell_type": "code",
      "source": [
        "llm.invoke(\"When were the last academy awards\").content"
      ],
      "metadata": {
        "colab": {
          "base_uri": "https://localhost:8080/",
          "height": 35
        },
        "id": "233dT3HyAepr",
        "outputId": "9e786297-e504-460a-afa4-578bef7f433f"
      },
      "execution_count": null,
      "outputs": [
        {
          "output_type": "execute_result",
          "data": {
            "text/plain": [
              "'The last Academy Awards, also known as the Oscars, were held on April 25, 2021.'"
            ],
            "application/vnd.google.colaboratory.intrinsic+json": {
              "type": "string"
            }
          },
          "metadata": {},
          "execution_count": 6
        }
      ]
    },
    {
      "cell_type": "markdown",
      "source": [
        "# **In context learning**"
      ],
      "metadata": {
        "id": "iEy0dMD93JWL"
      }
    },
    {
      "cell_type": "code",
      "source": [
        "context = \"Context: \\n\\\n",
        "The 96th Academy Awards ceremony, which was presented by the Academy of Motion Picture Arts and Sciences (AMPAS), took place on March 10, 2024, at the Dolby Theatre in Hollywood, Los Angeles.[6] During the gala, the AMPAS presented Academy Awards (commonly referred to as Oscars) in 23 categories honoring films released in 2023. Comedian Jimmy Kimmel hosted the show for the fourth time.[a] \\n\"\n",
        "\n",
        "question = \"When were the 96th academy awards?\"\n",
        "\n",
        "llm.invoke(context + question)\n"
      ],
      "metadata": {
        "colab": {
          "base_uri": "https://localhost:8080/"
        },
        "id": "Fj0YwrH33Izp",
        "outputId": "82e69471-d2b3-47ae-e6f7-c5d1d3691f49"
      },
      "execution_count": 7,
      "outputs": [
        {
          "output_type": "execute_result",
          "data": {
            "text/plain": [
              "AIMessage(content='The 96th Academy Awards took place on March 10, 2024.', response_metadata={'token_usage': {'completion_tokens': 17, 'prompt_tokens': 113, 'total_tokens': 130}, 'model_name': 'gpt-3.5-turbo', 'system_fingerprint': 'fp_c2295e73ad', 'finish_reason': 'stop', 'logprobs': None}, id='run-6b1f3544-4bfc-4e54-be36-7b1efd0cdb34-0')"
            ]
          },
          "metadata": {},
          "execution_count": 7
        }
      ]
    },
    {
      "cell_type": "code",
      "source": [
        "question =\"Who were the academy awards nominees\"\n",
        "llm.invoke(context + question)"
      ],
      "metadata": {
        "colab": {
          "base_uri": "https://localhost:8080/"
        },
        "id": "UQMPYH1o4Ucj",
        "outputId": "f0ce76d8-0c1e-43de-f0d2-2a45ab40ec98"
      },
      "execution_count": 5,
      "outputs": [
        {
          "output_type": "execute_result",
          "data": {
            "text/plain": [
              "AIMessage(content='The Academy Awards nominees for the 96th ceremony in 2024 would have included various actors, directors, writers, and other individuals involved in the films released in 2023. Some of the nominees could have included actors like Leonardo DiCaprio, Jennifer Lawrence, and Denzel Washington, directors like Steven Spielberg, Christopher Nolan, and Greta Gerwig, and writers like Aaron Sorkin, Quentin Tarantino, and Phoebe Waller-Bridge. The specific nominees in each category would have been announced closer to the date of the ceremony.', response_metadata={'token_usage': {'completion_tokens': 112, 'prompt_tokens': 110, 'total_tokens': 222}, 'model_name': 'gpt-3.5-turbo', 'system_fingerprint': 'fp_c2295e73ad', 'finish_reason': 'stop', 'logprobs': None}, id='run-3f333e96-78cf-43fe-bf29-affffb247e80-0')"
            ]
          },
          "metadata": {},
          "execution_count": 5
        }
      ]
    },
    {
      "cell_type": "markdown",
      "source": [
        "# **RAG**"
      ],
      "metadata": {
        "id": "dsQ1hTjT3Dyh"
      }
    },
    {
      "cell_type": "code",
      "source": [
        "# load url\n",
        "urls = [\n",
        "    \"https://en.wikipedia.org/wiki/96th_Academy_Awards\",\n",
        "]\n",
        "\n",
        "loader = SeleniumURLLoader(urls=urls)\n",
        "data = loader.load()\n",
        "\n",
        "\n",
        "# split document by character\n",
        "print(\"Splitting document by character...\")\n",
        "text_splitter = CharacterTextSplitter(\n",
        "    separator=\"\\n\", chunk_size=1000, chunk_overlap=200\n",
        ")\n",
        "\n",
        "# split into multiple documents\n",
        "print(\"Splitting into multiple documents...\")\n",
        "docs = text_splitter.split_documents(data)"
      ],
      "metadata": {
        "colab": {
          "base_uri": "https://localhost:8080/"
        },
        "id": "Bcsa1vXXAjjj",
        "outputId": "1ad87706-1700-4038-f1cc-446ba4c3761a"
      },
      "execution_count": null,
      "outputs": [
        {
          "output_type": "stream",
          "name": "stderr",
          "text": [
            "[nltk_data] Downloading package punkt to /root/nltk_data...\n",
            "[nltk_data]   Unzipping tokenizers/punkt.zip.\n",
            "[nltk_data] Downloading package averaged_perceptron_tagger to\n",
            "[nltk_data]     /root/nltk_data...\n",
            "[nltk_data]   Unzipping taggers/averaged_perceptron_tagger.zip.\n",
            "WARNING:langchain_text_splitters.base:Created a chunk of size 7822, which is longer than the specified 1000\n",
            "WARNING:langchain_text_splitters.base:Created a chunk of size 1686, which is longer than the specified 1000\n",
            "WARNING:langchain_text_splitters.base:Created a chunk of size 1710, which is longer than the specified 1000\n"
          ]
        },
        {
          "output_type": "stream",
          "name": "stdout",
          "text": [
            "Splitting document by character...\n",
            "Splitting into multiple documents...\n"
          ]
        }
      ]
    },
    {
      "cell_type": "code",
      "source": [
        "print(\"Creating vector store...\")\n",
        "# create vector store\n",
        "db = FAISS.from_documents(docs, OpenAIEmbeddings( openai_api_key=openai_api_key))"
      ],
      "metadata": {
        "colab": {
          "base_uri": "https://localhost:8080/"
        },
        "id": "_9wk_nAgAkLi",
        "outputId": "23a766de-b8cf-4d70-f858-771ba5182606"
      },
      "execution_count": null,
      "outputs": [
        {
          "output_type": "stream",
          "name": "stdout",
          "text": [
            "Creating vector store...\n"
          ]
        }
      ]
    },
    {
      "cell_type": "code",
      "source": [
        "\n",
        "# create retriever to ask questions using openai and vector store\n",
        "print(\"Creating retriever...\")\n",
        "qa = RetrievalQA.from_chain_type(\n",
        "    llm=llm,\n",
        "    chain_type=\"stuff\",\n",
        "    retriever=db.as_retriever(search_kwargs={\"k\": 10}),\n",
        ")"
      ],
      "metadata": {
        "colab": {
          "base_uri": "https://localhost:8080/"
        },
        "id": "bINlP9jcBJV7",
        "outputId": "b96129bb-d862-44c4-af42-69a0e8394f44"
      },
      "execution_count": null,
      "outputs": [
        {
          "output_type": "stream",
          "name": "stdout",
          "text": [
            "Creating retriever...\n"
          ]
        }
      ]
    },
    {
      "cell_type": "code",
      "source": [
        "def ask_question(question):\n",
        "    print(\"Query: \" + question)\n",
        "    print(\"Response: \" + qa.invoke(question)['result'])\n",
        "    print(\"===============\")"
      ],
      "metadata": {
        "id": "64xmlqppAxE6"
      },
      "execution_count": null,
      "outputs": []
    },
    {
      "cell_type": "code",
      "source": [
        "ask_question(\"Who were the academy awards winners?\")\n",
        "ask_question(\"What date did the academy awards happen?\")\n",
        "ask_question(\"What date did the 96th academy awards happen?\")"
      ],
      "metadata": {
        "colab": {
          "base_uri": "https://localhost:8080/"
        },
        "id": "ByfZo3p-A0bj",
        "outputId": "c3c6f2b5-3e12-4586-fb09-f71f56a6e3f1"
      },
      "execution_count": null,
      "outputs": [
        {
          "output_type": "stream",
          "name": "stdout",
          "text": [
            "Query: Who were the academy awards winners?\n",
            "Response: The winners of the 96th Academy Awards included Oppenheimer, which won 7 awards, Poor Things, which won 4 awards, and The Zone of Interest, which won 2 awards. Specific categories and winners can be found in the full list of winners released by the Academy of Motion Picture Arts and Sciences.\n",
            "===============\n",
            "Query: What date did the academy awards happen?\n",
            "Response: The 96th Academy Awards ceremony took place on March 10, 2024, at the Dolby Theatre in Hollywood, Los Angeles.\n",
            "===============\n",
            "Query: What date did the 96th academy awards happen?\n",
            "Response: The 96th Academy Awards ceremony took place on March 10, 2024.\n",
            "===============\n"
          ]
        }
      ]
    },
    {
      "cell_type": "code",
      "source": [],
      "metadata": {
        "id": "hCFeXVLsA6CX"
      },
      "execution_count": null,
      "outputs": []
    }
  ]
}